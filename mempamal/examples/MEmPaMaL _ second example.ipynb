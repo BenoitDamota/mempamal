{
 "metadata": {
  "name": "MEmPaMaL : second example"
 }, 
 "name": "MEmPaMaL : second example", 
 "nbformat": 2, 
 "worksheets": [
  {
   "cells": [
    {
     "cell_type": "markdown", 
     "source": "Model selection with MEmPaMaL\n=============================\n\nExample with Scikit-learn + MEmPaMaL + Soma-Workflow\n----------------------------------------------------\n\nIn this example, we take the classical iris dataset."
    }, 
    {
     "cell_type": "code", 
     "collapsed": true, 
     "input": "from mempamal.datasets import iris\nX, y = iris.get_data()", 
     "language": "python", 
     "outputs": [], 
     "prompt_number": 1
    }, 
    {
     "cell_type": "code", 
     "collapsed": true, 
     "input": "from sklearn.linear_model.logistic import LogisticRegression\nfrom sklearn.preprocessing.data import StandardScaler\nfrom sklearn.cross_validation import StratifiedKFold\nfrom sklearn.pipeline import Pipeline\nfrom sklearn.metrics import f1_score", 
     "language": "python", 
     "outputs": [], 
     "prompt_number": 2
    }, 
    {
     "cell_type": "markdown", 
     "source": "The pipeline will contains:\n\n- scaling of the data: centering and scaling wrt. the standard deviation\n- logistic regression with default parameters\n\nThe goodness of fit is estimated with:\n\n- a 5-folds (stratified) cross-validation\n- the score function is a F1 score\n\nThe model selection is performed with:\n\n- a 5-folds (stratified) cross-validation\n- the score function is a F1 score\n- the parameters grid is computed with ``make_grid``"
    }, 
    {
     "cell_type": "code", 
     "collapsed": true, 
     "input": "s1 = StandardScaler(with_mean=True, with_std=True)\ns2 = LogisticRegression()\np = [(\"scaler\", s1), (\"logit\", s2)]\nest = Pipeline(p)", 
     "language": "python", 
     "outputs": [], 
     "prompt_number": 3
    }, 
    {
     "cell_type": "code", 
     "collapsed": true, 
     "input": "from mempamal.configuration import JSONify_estimator, JSONify_cv, build_dataset\nfrom mempamal.workflow import create_wf, save_wf\nfrom mempamal.examples.parameters_grid import make_log_grid", 
     "language": "python", 
     "outputs": [], 
     "prompt_number": 4
    }, 
    {
     "cell_type": "markdown", 
     "source": "We jsonify the estimator and the cross-validation configuration:"
    }, 
    {
     "cell_type": "code", 
     "collapsed": false, 
     "input": "method_conf = JSONify_estimator(est, out=\"./est.json\")\ncv_conf = JSONify_cv(StratifiedKFold, cv_kwargs={\"n_folds\": 5},\n                     score_func=f1_score,\n                     inner_cv=StratifiedKFold,\n                     inner_cv_kwargs={\"n_folds\": 5},\n                     inner_score_func=f1_score,\n                     grid_func=make_log_grid,\n                     stratified=True,\n                     out=\"./cv.json\")", 
     "language": "python", 
     "outputs": [], 
     "prompt_number": 5
    }, 
    {
     "cell_type": "markdown", 
     "source": "We build the dataset in the current directory. \nIt's create a ``dataset.joblib`` file. \nThen we create the workflow in our internal format (``create_wf``). \nWith ``verbose=True``, it prints the commands on ``stdout``.\nAnd finally, we output the workflow (``save_wf``) in the soma-workflow format \nand write it to ``workflow.json`` (need soma-workflow)."
    }, 
    {
     "cell_type": "code", 
     "collapsed": false, 
     "input": "dataset = build_dataset(X, y, method_conf, cv_conf, \".\")\nwfi = create_wf(dataset['folds'], cv_conf, method_conf, \".\",\n               verbose=True)\nwf = save_wf(wfi, \"./workflow.json\", mode=\"soma-workflow\")", 
     "language": "python", 
     "outputs": [
      {
       "output_type": "stream", 
       "stream": "stdout", 
       "text": "python mempamal/scripts/mapper.py ./cv.json ./est.json ./dataset.joblib ./map_res_0_0.pkl 0 --inner 0\npython mempamal/scripts/mapper.py ./cv.json ./est.json ./dataset.joblib ./map_res_0_1.pkl 0 --inner 1\npython mempamal/scripts/mapper.py ./cv.json ./est.json ./dataset.joblib ./map_res_0_2.pkl 0 --inner 2\npython mempamal/scripts/mapper.py ./cv.json ./est.json ./dataset.joblib ./map_res_0_3.pkl 0 --inner 3\npython mempamal/scripts/mapper.py ./cv.json ./est.json ./dataset.joblib ./map_res_0_4.pkl 0 --inner 4\n\npython mempamal/scripts/inner_reducer.py ./cv.json ./est.json ./dataset.joblib ./red_res_0.pkl ./map_res_0_{inner}.pkl 0\n\npython mempamal/scripts/mapper.py ./cv.json ./est.json ./dataset.joblib ./map_res_1_0.pkl 1 --inner 0\npython mempamal/scripts/mapper.py ./cv.json ./est.json ./dataset.joblib ./map_res_1_1.pkl 1 --inner 1\npython mempamal/scripts/mapper.py ./cv.json ./est.json ./dataset.joblib ./map_res_1_2.pkl 1 --inner 2\npython mempamal/scripts/mapper.py ./cv.json ./est.json ./dataset.joblib ./map_res_1_3.pkl 1 --inner 3\npython mempamal/scripts/mapper.py ./cv.json ./est.json ./dataset.joblib ./map_res_1_4.pkl 1 --inner 4\n\npython mempamal/scripts/inner_reducer.py ./cv.json ./est.json ./dataset.joblib ./red_res_1.pkl ./map_res_1_{inner}.pkl 1\n\npython mempamal/scripts/mapper.py ./cv.json ./est.json ./dataset.joblib ./map_res_2_0.pkl 2 --inner 0\npython mempamal/scripts/mapper.py ./cv.json ./est.json ./dataset.joblib ./map_res_2_1.pkl 2 --inner 1\npython mempamal/scripts/mapper.py ./cv.json ./est.json ./dataset.joblib ./map_res_2_2.pkl 2 --inner 2\npython mempamal/scripts/mapper.py ./cv.json ./est.json ./dataset.joblib ./map_res_2_3.pkl 2 --inner 3\npython mempamal/scripts/mapper.py ./cv.json ./est.json ./dataset.joblib ./map_res_2_4.pkl 2 --inner 4\n\npython mempamal/scripts/inner_reducer.py ./cv.json ./est.json ./dataset.joblib ./red_res_2.pkl ./map_res_2_{inner}.pkl 2\n\npython mempamal/scripts/mapper.py ./cv.json ./est.json ./dataset.joblib ./map_res_3_0.pkl 3 --inner 0\npython mempamal/scripts/mapper.py ./cv.json ./est.json ./dataset.joblib ./map_res_3_1.pkl 3 --inner 1\npython mempamal/scripts/mapper.py ./cv.json ./est.json ./dataset.joblib ./map_res_3_2.pkl 3 --inner 2\npython mempamal/scripts/mapper.py ./cv.json ./est.json ./dataset.joblib ./map_res_3_3.pkl 3 --inner 3\npython mempamal/scripts/mapper.py ./cv.json ./est.json ./dataset.joblib ./map_res_3_4.pkl 3 --inner 4\n\npython mempamal/scripts/inner_reducer.py ./cv.json ./est.json ./dataset.joblib ./red_res_3.pkl ./map_res_3_{inner}.pkl 3\n\npython mempamal/scripts/mapper.py ./cv.json ./est.json ./dataset.joblib ./map_res_4_0.pkl 4 --inner 0\npython mempamal/scripts/mapper.py ./cv.json ./est.json ./dataset.joblib ./map_res_4_1.pkl 4 --inner 1\npython mempamal/scripts/mapper.py ./cv.json ./est.json ./dataset.joblib ./map_res_4_2.pkl 4 --inner 2\npython mempamal/scripts/mapper.py ./cv.json ./est.json ./dataset.joblib ./map_res_4_3.pkl 4 --inner 3\npython mempamal/scripts/mapper.py ./cv.json ./est.json ./dataset.joblib ./map_res_4_4.pkl 4 --inner 4\n\npython mempamal/scripts/inner_reducer.py ./cv.json ./est.json ./dataset.joblib ./red_res_4.pkl ./map_res_4_{inner}.pkl 4\n\npython mempamal/scripts/outer_reducer.py ./final_res.pkl ./red_res_{outer}.pkl"
      }
     ], 
     "prompt_number": 6
    }, 
    {
     "cell_type": "markdown", 
     "source": "Now, we create a ``WorkflowControler`` and we submit the workflow. \nWe wait for workflow completion then we read the final results."
    }, 
    {
     "cell_type": "code", 
     "collapsed": false, 
     "input": "from soma_workflow.client import WorkflowController\n\nimport time\nimport json\nimport sklearn.externals.joblib as joblib\n\ncontroler = WorkflowController()\nwf_id = controler.submit_workflow(workflow=wf, name=\"second example\")\n\nwhile controler.workflow_status(wf_id) != 'workflow_done':\n    time.sleep(2)\nprint(joblib.load('./final_res.pkl'))", 
     "language": "python", 
     "outputs": [
      {
       "output_type": "stream", 
       "stream": "stdout", 
       "text": "light mode\n{'std': 0.044661698169434071, 'raw': array([ 1.        ,  0.93324979,  0.93333333,  0.86531987,  0.96658312]), 'median': 0.93333333333333335, 'mean': 0.93969722285511748}"
      }, 
      {
       "output_type": "stream", 
       "stream": "stdout", 
       "text": ""
      }
     ], 
     "prompt_number": 7
    }
   ]
  }
 ]
}